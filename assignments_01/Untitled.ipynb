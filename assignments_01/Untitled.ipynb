{
 "cells": [
  {
   "cell_type": "code",
   "execution_count": 31,
   "id": "df9d2bb8",
   "metadata": {},
   "outputs": [],
   "source": [
    "import csv\n",
    "import os\n",
    "import pandas as pd\n",
    "pd.set_option(\"display.max_columns\", False)"
   ]
  },
  {
   "cell_type": "code",
   "execution_count": 32,
   "id": "feff9a18",
   "metadata": {},
   "outputs": [],
   "source": [
    "file_name = 'eu_life_expectancy_raw.tsv'\n",
    "data_dir_path = f\"{os.path.dirname(os.getcwd())}\\\\life_expectancy\\\\data\\\\\""
   ]
  },
  {
   "cell_type": "code",
   "execution_count": 33,
   "id": "07acfead",
   "metadata": {},
   "outputs": [],
   "source": [
    "eu_life_expectancy_raw = pd.read_csv(f\"{data_dir_path}{file_name}\", delimiter = '\\t')"
   ]
  },
  {
   "cell_type": "code",
   "execution_count": 34,
   "id": "89e95c6e",
   "metadata": {},
   "outputs": [],
   "source": [
    "eu_life_expectancy_raw = pd.melt(\n",
    "    eu_life_expectancy_raw, \n",
    "    id_vars='unit,sex,age,geo\\\\time', \n",
    "    var_name='year', \n",
    "    value_name='value'\n",
    ")"
   ]
  },
  {
   "cell_type": "code",
   "execution_count": 35,
   "id": "eb53ea00",
   "metadata": {},
   "outputs": [],
   "source": [
    "eu_life_expectancy_raw = eu_life_expectancy_raw[eu_life_expectancy_raw['unit,sex,age,geo\\\\time'].str.split(',').str[-1] == 'PT']"
   ]
  },
  {
   "cell_type": "code",
   "execution_count": 36,
   "id": "c629a997",
   "metadata": {},
   "outputs": [],
   "source": [
    "eu_life_expectancy_raw = eu_life_expectancy_raw.rename(columns={'unit,sex,age,geo\\\\time': 'unit,sex,age,region'})"
   ]
  },
  {
   "cell_type": "code",
   "execution_count": 37,
   "id": "92fe19b2",
   "metadata": {},
   "outputs": [],
   "source": [
    "eu_life_expectancy_raw = eu_life_expectancy_raw[eu_life_expectancy_raw['value'].str.strip() != ':']"
   ]
  },
  {
   "cell_type": "code",
   "execution_count": 38,
   "id": "87cb72e1",
   "metadata": {},
   "outputs": [],
   "source": [
    "eu_life_expectancy_raw['value'] = eu_life_expectancy_raw['value'].str.split(' ').str[0]"
   ]
  },
  {
   "cell_type": "code",
   "execution_count": 39,
   "id": "00c237a1",
   "metadata": {},
   "outputs": [],
   "source": [
    "cast_dic = {'year': int, 'value': float}\n",
    "eu_life_expectancy_raw = eu_life_expectancy_raw.astype(cast_dic)"
   ]
  },
  {
   "cell_type": "code",
   "execution_count": 40,
   "id": "6cc0e40f",
   "metadata": {},
   "outputs": [],
   "source": [
    "eu_life_expectancy_raw['unit'] = eu_life_expectancy_raw['unit,sex,age,region'].str.split(',').str[0]"
   ]
  },
  {
   "cell_type": "code",
   "execution_count": 41,
   "id": "4a76cbc3",
   "metadata": {},
   "outputs": [],
   "source": [
    "new_columns = eu_life_expectancy_raw.columns[0].split(',')\n",
    "for column_intex, column in enumerate(new_columns):\n",
    "    column_value = eu_life_expectancy_raw['unit,sex,age,region'].str.split(',').str[column_intex]\n",
    "    eu_life_expectancy_raw[column] = column_value"
   ]
  },
  {
   "cell_type": "code",
   "execution_count": 28,
   "id": "9e6d4d77",
   "metadata": {},
   "outputs": [],
   "source": [
    "eu_life_expectancy_raw = eu_life_expectancy_raw.drop(['unit,sex,age,region'], axis=1)"
   ]
  },
  {
   "cell_type": "code",
   "execution_count": 29,
   "id": "b20b6f76",
   "metadata": {},
   "outputs": [
    {
     "data": {
      "text/html": [
       "<div>\n",
       "<style scoped>\n",
       "    .dataframe tbody tr th:only-of-type {\n",
       "        vertical-align: middle;\n",
       "    }\n",
       "\n",
       "    .dataframe tbody tr th {\n",
       "        vertical-align: top;\n",
       "    }\n",
       "\n",
       "    .dataframe thead th {\n",
       "        text-align: right;\n",
       "    }\n",
       "</style>\n",
       "<table border=\"1\" class=\"dataframe\">\n",
       "  <thead>\n",
       "    <tr style=\"text-align: right;\">\n",
       "      <th></th>\n",
       "      <th>unit</th>\n",
       "      <th>sex</th>\n",
       "      <th>age</th>\n",
       "      <th>region</th>\n",
       "      <th>year</th>\n",
       "      <th>value</th>\n",
       "    </tr>\n",
       "  </thead>\n",
       "  <tbody>\n",
       "    <tr>\n",
       "      <th>3460</th>\n",
       "      <td>YR</td>\n",
       "      <td>F</td>\n",
       "      <td>Y65</td>\n",
       "      <td>PT</td>\n",
       "      <td>2021</td>\n",
       "      <td>21.7</td>\n",
       "    </tr>\n",
       "    <tr>\n",
       "      <th>4804</th>\n",
       "      <td>YR</td>\n",
       "      <td>F</td>\n",
       "      <td>Y_LT1</td>\n",
       "      <td>PT</td>\n",
       "      <td>2021</td>\n",
       "      <td>84.3</td>\n",
       "    </tr>\n",
       "    <tr>\n",
       "      <th>8276</th>\n",
       "      <td>YR</td>\n",
       "      <td>M</td>\n",
       "      <td>Y65</td>\n",
       "      <td>PT</td>\n",
       "      <td>2021</td>\n",
       "      <td>17.8</td>\n",
       "    </tr>\n",
       "    <tr>\n",
       "      <th>9620</th>\n",
       "      <td>YR</td>\n",
       "      <td>M</td>\n",
       "      <td>Y_LT1</td>\n",
       "      <td>PT</td>\n",
       "      <td>2021</td>\n",
       "      <td>78.0</td>\n",
       "    </tr>\n",
       "    <tr>\n",
       "      <th>13092</th>\n",
       "      <td>YR</td>\n",
       "      <td>T</td>\n",
       "      <td>Y65</td>\n",
       "      <td>PT</td>\n",
       "      <td>2021</td>\n",
       "      <td>19.9</td>\n",
       "    </tr>\n",
       "  </tbody>\n",
       "</table>\n",
       "</div>"
      ],
      "text/plain": [
       "      unit sex    age region  year  value\n",
       "3460    YR   F    Y65     PT  2021   21.7\n",
       "4804    YR   F  Y_LT1     PT  2021   84.3\n",
       "8276    YR   M    Y65     PT  2021   17.8\n",
       "9620    YR   M  Y_LT1     PT  2021   78.0\n",
       "13092   YR   T    Y65     PT  2021   19.9"
      ]
     },
     "execution_count": 29,
     "metadata": {},
     "output_type": "execute_result"
    }
   ],
   "source": [
    "new_order = ['unit','sex','age','region','year','value']\n",
    "eu_life_expectancy_raw = eu_life_expectancy_raw.reindex(columns=new_order)\n",
    "eu_life_expectancy_raw.head()"
   ]
  },
  {
   "cell_type": "code",
   "execution_count": 14,
   "id": "95032d1d",
   "metadata": {},
   "outputs": [],
   "source": [
    "eu_life_expectancy_raw.to_csv(f\"{data_dir_path}eu_life_expectancy_raw.csv\", index=False, escapechar='')"
   ]
  },
  {
   "cell_type": "code",
   "execution_count": null,
   "id": "694f36de",
   "metadata": {},
   "outputs": [],
   "source": []
  }
 ],
 "metadata": {
  "kernelspec": {
   "display_name": "Python 3 (ipykernel)",
   "language": "python",
   "name": "python3"
  },
  "language_info": {
   "codemirror_mode": {
    "name": "ipython",
    "version": 3
   },
   "file_extension": ".py",
   "mimetype": "text/x-python",
   "name": "python",
   "nbconvert_exporter": "python",
   "pygments_lexer": "ipython3",
   "version": "3.8.10"
  }
 },
 "nbformat": 4,
 "nbformat_minor": 5
}
